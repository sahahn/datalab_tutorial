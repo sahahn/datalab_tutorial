{
 "cells": [
  {
   "cell_type": "markdown",
   "metadata": {},
   "source": [
    "## Setup\n",
    "\n",
    "Start by making sure docs directory exists"
   ]
  },
  {
   "cell_type": "code",
   "execution_count": 1,
   "metadata": {},
   "outputs": [],
   "source": [
    "import os\n",
    "os.makedirs('docs/_includes', exist_ok=True)"
   ]
  },
  {
   "cell_type": "markdown",
   "metadata": {},
   "source": [
    "## Static Figures"
   ]
  },
  {
   "cell_type": "code",
   "execution_count": null,
   "metadata": {},
   "outputs": [],
   "source": [
    "import matplotlib.pyplot as plt\n",
    "\n",
    "plt.scatter([1,2,3], [1,2,3], label='Nothing')\n",
    "plt.title('Simple plot')\n",
    "plt.legend()\n",
    "\n",
    "# Save in two spots, base directory\n",
    "plt.savefig('basic_plot.png')\n",
    "\n",
    "# Or in docs folder directly\n",
    "plt.savefig('docs/basic_plot.png')"
   ]
  },
  {
   "cell_type": "markdown",
   "metadata": {},
   "source": [
    "## Interactive Figures"
   ]
  },
  {
   "cell_type": "code",
   "execution_count": null,
   "metadata": {},
   "outputs": [],
   "source": [
    "import plotly.express as px\n",
    "\n",
    "fig = px.scatter(x=range(10), y=range(10))\n",
    "\n",
    "# Write to both docs and in nested includes folder\n",
    "fig.write_html(\"docs/plotly.html\")\n",
    "fig.write_html(\"docs/_includes/plotly.html\")"
   ]
  },
  {
   "cell_type": "markdown",
   "metadata": {},
   "source": [
    "## More Complex Interactive figures\n",
    "\n",
    "Recreate basic example (copy pasted from folium docs)"
   ]
  },
  {
   "cell_type": "code",
   "execution_count": null,
   "metadata": {
    "id": "-4MvC2MQfD-E"
   },
   "outputs": [],
   "source": [
    "import pandas as pd\n",
    "import folium\n",
    "\n",
    "url = (\n",
    "    \"https://raw.githubusercontent.com/python-visualization/folium/master/examples/data\"\n",
    ")\n",
    "state_geo = f\"{url}/us-states.json\"\n",
    "state_unemployment = f\"{url}/US_Unemployment_Oct2012.csv\"\n",
    "state_data = pd.read_csv(state_unemployment)\n",
    "\n",
    "m = folium.Map(location=[48, -102], zoom_start=3)\n",
    "\n",
    "folium.Choropleth(\n",
    "    geo_data=state_geo,\n",
    "    name=\"choropleth\",\n",
    "    data=state_data,\n",
    "    columns=[\"State\", \"Unemployment\"],\n",
    "    key_on=\"feature.id\",\n",
    "    fill_color=\"YlGn\",\n",
    "    fill_opacity=0.7,\n",
    "    line_opacity=0.2,\n",
    "    legend_name=\"Unemployment Rate (%)\",\n",
    ").add_to(m)\n",
    "\n",
    "folium.LayerControl().add_to(m)\n",
    "\n",
    "m"
   ]
  },
  {
   "cell_type": "markdown",
   "metadata": {},
   "source": [
    "The difference we have to worry about here is that "
   ]
  },
  {
   "cell_type": "code",
   "execution_count": null,
   "metadata": {},
   "outputs": [],
   "source": [
    "# Save in both ways,like before\n",
    "m.save(\"docs/example_map.html\")\n",
    "m.save('docs/_includes/example_map.html')"
   ]
  },
  {
   "cell_type": "code",
   "execution_count": null,
   "metadata": {},
   "outputs": [],
   "source": [
    "import base64\n",
    "\n",
    "def save_in_iframe(loc, save_loc=None,\n",
    "                   height='40em', width='100%',\n",
    "                   style_str=None):\n",
    "    \n",
    "    # Over-write existing by default\n",
    "    if save_loc is None:\n",
    "        save_loc = loc\n",
    "        \n",
    "    # If passed style str, use default\n",
    "    if style_str is None:\n",
    "        style_str = f\"border:none; height:{height}; width:{width};\"\n",
    "    \n",
    "    # Load as html\n",
    "    with open(loc, 'rb') as f:\n",
    "        html = f.read()\n",
    "    \n",
    "    # Encode in a kind of annoying way, but makes\n",
    "    # it play nice with IFrame's\n",
    "    encoded = base64.b64encode(html).decode('utf8')\n",
    "    src = \"data:text/html;charset=utf-8;base64,\" + encoded\n",
    "    \n",
    "    # Over-write the existing file, but wrapped in an iframe\n",
    "    with open(save_loc, 'w') as f:\n",
    "        f.write(f'<iframe src=\"{src}\" style=\"{style_str}\"></iframe>')\n",
    "    \n",
    "\n",
    "# Save another copy as iframe\n",
    "save_in_iframe(loc='docs/_includes/example_map.html',\n",
    "               save_loc='docs/_includes/example_map_iframe.html')"
   ]
  },
  {
   "cell_type": "markdown",
   "metadata": {},
   "source": [
    "## Save Tables as HTML\n",
    "\n",
    "Use the same table that we are plotting"
   ]
  },
  {
   "cell_type": "code",
   "execution_count": null,
   "metadata": {},
   "outputs": [],
   "source": [
    "table_html = state_data.to_html()\n",
    "\n",
    "# Save just to includes\n",
    "with open('docs/_includes/example_table1.html', 'w') as f:\n",
    "    f.write(table_html)"
   ]
  },
  {
   "cell_type": "markdown",
   "metadata": {},
   "source": [
    "What if we wanted to change some specific things?\n",
    "There are a bunch of built in options,"
   ]
  },
  {
   "cell_type": "code",
   "execution_count": null,
   "metadata": {},
   "outputs": [],
   "source": [
    "print(state_data.to_html.__doc__)"
   ]
  },
  {
   "cell_type": "markdown",
   "metadata": {},
   "source": [
    "And / or, we can add custom things, here's an example on how we can could save same table, but now with sortable columns."
   ]
  },
  {
   "cell_type": "code",
   "execution_count": null,
   "metadata": {},
   "outputs": [],
   "source": [
    "html = '<script src=\"https://www.kryogenix.org/code/browser/sorttable/sorttable.js\"></script>'\n",
    "    \n",
    "    \n",
    "html += state_data.to_html(float_format=\"%.4f\", # Format any floating point number\n",
    "                           classes=['sortable'], # Make sortable, along with js import\n",
    "                           border=0, # No border on table\n",
    "                           justify='center', # Make table centered\n",
    "                           index=False, # Ignore index\n",
    "                          )\n",
    "\n",
    "# Save just to includes\n",
    "with open('docs/_includes/example_table2.html', 'w') as f:\n",
    "    f.write(html)\n",
    "    \n",
    "    \n",
    "    "
   ]
  },
  {
   "cell_type": "code",
   "execution_count": null,
   "metadata": {},
   "outputs": [],
   "source": []
  }
 ],
 "metadata": {
  "colab": {
   "authorship_tag": "ABX9TyPS42MamHGqDPWZ0kQI63Ce",
   "include_colab_link": true,
   "name": "Untitled1.ipynb",
   "provenance": []
  },
  "kernelspec": {
   "display_name": "Python 3",
   "language": "python",
   "name": "python3"
  },
  "language_info": {
   "codemirror_mode": {
    "name": "ipython",
    "version": 3
   },
   "file_extension": ".py",
   "mimetype": "text/x-python",
   "name": "python",
   "nbconvert_exporter": "python",
   "pygments_lexer": "ipython3",
   "version": "3.6.12"
  }
 },
 "nbformat": 4,
 "nbformat_minor": 1
}
